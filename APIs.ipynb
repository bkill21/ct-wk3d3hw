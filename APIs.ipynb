{
 "cells": [
  {
   "cell_type": "markdown",
   "metadata": {},
   "source": [
    "# APIs\n"
   ]
  },
  {
   "cell_type": "markdown",
   "metadata": {},
   "source": [
    "## Tasks Today:\n",
    "1) <b>Requests and the pokemon API </b> <br>\n",
    " "
   ]
  },
  {
   "cell_type": "markdown",
   "metadata": {},
   "source": [
    "# working with APis"
   ]
  },
  {
   "cell_type": "markdown",
   "metadata": {},
   "source": [
    "<p> What exactly is an API? <br> <br>\n",
    "API is the acronym for Application Programming Interface, which is a software intermediary that allows two applications to talk to each other. Each time you use an app like Facebook, send an instant message, or check the weather on your phone, you're using an API. </p>"
   ]
  },
  {
   "cell_type": "markdown",
   "metadata": {},
   "source": [
    "### The Poke API  allows you to retreive a pokemon's information from PokeAPI https://pokeapi.co/\n",
    "\n"
   ]
  },
  {
   "cell_type": "code",
   "execution_count": 27,
   "metadata": {},
   "outputs": [
    {
     "name": "stdout",
     "output_type": "stream",
     "text": [
      "What pokemon are you looking for?\n",
      "charmander\n",
      "Success\n"
     ]
    }
   ],
   "source": [
    "# making an API call\n",
    "import requests\n",
    "\n",
    "api_endpoint = 'https://pokeapi.co/api/v2/pokemon/'\n",
    "\n",
    "# requests.get(api_endpoint+'pikachu').json()\n",
    "\n",
    "pokemon = input('What pokemon are you looking for?\\n').lower()\n",
    "\n",
    "response = requests.get(f'{api_endpoint}{pokemon}')\n",
    "\n",
    "#access status code (ie 200 good, 404 bad)\n",
    "response.status_code\n",
    "\n",
    "if response.status_code == 200:\n",
    "    my_pokemon = response.json()\n",
    "    print('Success')\n",
    "else:\n",
    "    print(f'Error, status code {response.status_code}')"
   ]
  },
  {
   "cell_type": "markdown",
   "metadata": {},
   "source": [
    "### Display a Pokemon's name, weight, abilities, and types"
   ]
  },
  {
   "cell_type": "code",
   "execution_count": 32,
   "metadata": {},
   "outputs": [
    {
     "data": {
      "text/plain": [
       "'charmander'"
      ]
     },
     "execution_count": 32,
     "metadata": {},
     "output_type": "execute_result"
    }
   ],
   "source": [
    "# get the name\n",
    "my_pokemon['forms'][0]['name']"
   ]
  },
  {
   "cell_type": "code",
   "execution_count": 40,
   "metadata": {},
   "outputs": [
    {
     "data": {
      "text/plain": [
       "[{'slot': 1,\n",
       "  'type': {'name': 'fire', 'url': 'https://pokeapi.co/api/v2/type/10/'}}]"
      ]
     },
     "execution_count": 40,
     "metadata": {},
     "output_type": "execute_result"
    }
   ],
   "source": [
    "# get types\n",
    "my_pokemon['types']"
   ]
  },
  {
   "cell_type": "code",
   "execution_count": 30,
   "metadata": {},
   "outputs": [
    {
     "data": {
      "text/plain": [
       "85"
      ]
     },
     "execution_count": 30,
     "metadata": {},
     "output_type": "execute_result"
    }
   ],
   "source": [
    "# get weight\n",
    "my_pokemon['weight']"
   ]
  },
  {
   "cell_type": "code",
   "execution_count": 65,
   "metadata": {},
   "outputs": [
    {
     "name": "stdout",
     "output_type": "stream",
     "text": [
      "[{'ability': {'name': 'blaze', 'url': 'https://pokeapi.co/api/v2/ability/66/'}, 'is_hidden': False, 'slot': 1}, {'ability': {'name': 'solar-power', 'url': 'https://pokeapi.co/api/v2/ability/94/'}, 'is_hidden': True, 'slot': 3}]\n"
     ]
    }
   ],
   "source": [
    "# get abilities\n",
    "print(my_pokemon['abilities'])\n",
    "abilities = my_pokemon['abilities']"
   ]
  },
  {
   "cell_type": "code",
   "execution_count": 62,
   "metadata": {},
   "outputs": [
    {
     "data": {
      "text/plain": [
       "['blaze', 'solar-power']"
      ]
     },
     "execution_count": 62,
     "metadata": {},
     "output_type": "execute_result"
    }
   ],
   "source": [
    "[ability_dict['ability']['name'] for ability_dict in abilities]"
   ]
  },
  {
   "cell_type": "code",
   "execution_count": 6,
   "metadata": {},
   "outputs": [],
   "source": [
    "# Create a structure for a single pokemon\n"
   ]
  },
  {
   "cell_type": "code",
   "execution_count": 51,
   "metadata": {},
   "outputs": [
    {
     "name": "stdout",
     "output_type": "stream",
     "text": [
      "{'Name': 'charmander', 'Type': [{'slot': 1, 'type': {'name': 'fire', 'url': 'https://pokeapi.co/api/v2/type/10/'}}], 'Weight': 85, 'Abilities': ['blaze', 'solar-power']}\n"
     ]
    }
   ],
   "source": [
    "pokemon_dict = {\n",
    "    'Name' : my_pokemon['forms'][0]['name'],\n",
    "    'Type' : my_pokemon['types'],\n",
    "    'Weight' : my_pokemon['weight'],\n",
    "    'Abilities' : [ability_dict['ability']['name'] for ability_dict in abilities]\n",
    "}\n",
    "\n",
    "print(pokemon_dict)"
   ]
  },
  {
   "cell_type": "markdown",
   "metadata": {},
   "source": [
    "#### Create a function to Pull in your own Pokemon's data "
   ]
  },
  {
   "cell_type": "code",
   "execution_count": 85,
   "metadata": {},
   "outputs": [
    {
     "name": "stdout",
     "output_type": "stream",
     "text": [
      "Which pokemon would you like to chose?2\n",
      "Successfully chose your pokemon\n"
     ]
    },
    {
     "data": {
      "text/plain": [
       "{'Name': 'ivysaur',\n",
       " 'Type': [{'slot': 1,\n",
       "   'type': {'name': 'grass', 'url': 'https://pokeapi.co/api/v2/type/12/'}},\n",
       "  {'slot': 2,\n",
       "   'type': {'name': 'poison', 'url': 'https://pokeapi.co/api/v2/type/4/'}}],\n",
       " 'Weight': 130,\n",
       " 'Abilities': ['overgrow', 'chlorophyll']}"
      ]
     },
     "execution_count": 85,
     "metadata": {},
     "output_type": "execute_result"
    }
   ],
   "source": [
    "def poke_api_call(pokemon):\n",
    "    pokemon_dict = {}\n",
    "    response = requests.get(f'https://pokeapi.co/api/v2/pokemon/{pokemon}')\n",
    "    if response.status_code == 200:\n",
    "        print('Successfully chose your pokemon')\n",
    "        my_pokemon = response.json()\n",
    "        abilities = my_pokemon['abilities']\n",
    "        pokemon_dict = {\n",
    "                'Name' : my_pokemon['forms'][0]['name'],\n",
    "                'Type' : my_pokemon['types'],\n",
    "                'Weight' : my_pokemon['weight'],\n",
    "                'Abilities' : [ability_dict['ability']['name'] for ability_dict in abilities]\n",
    "            }\n",
    "    else:\n",
    "        print(f'Error, something wrong with your search: {response.status_code}')\n",
    "    return pokemon_dict\n",
    "\n",
    "poke_api_call(input('Which pokemon would you like to chose?'))"
   ]
  },
  {
   "cell_type": "markdown",
   "metadata": {},
   "source": [
    "Choose your pokemon"
   ]
  },
  {
   "cell_type": "code",
   "execution_count": 99,
   "metadata": {},
   "outputs": [
    {
     "name": "stdout",
     "output_type": "stream",
     "text": [
      "[507, 12, 16, 449, 569, 752]\n"
     ]
    }
   ],
   "source": [
    "from random import randint\n",
    "# Random number generated for each pokemon id\n",
    "random_team = [randint(1,898) for i in range(6)]\n",
    "print(random_team)\n",
    "your_team = ['electabuzz', 'haunter','tyranitar','blaziken','marowak','dragonair']\n"
   ]
  },
  {
   "cell_type": "code",
   "execution_count": 101,
   "metadata": {},
   "outputs": [
    {
     "name": "stdout",
     "output_type": "stream",
     "text": [
      "Successfully chose your pokemon\n",
      "Successfully chose your pokemon\n",
      "Successfully chose your pokemon\n",
      "Successfully chose your pokemon\n",
      "Successfully chose your pokemon\n",
      "Successfully chose your pokemon\n",
      "{'electabuzz': {'Name': 'electabuzz', 'Type': [{'slot': 1, 'type': {'name': 'electric', 'url': 'https://pokeapi.co/api/v2/type/13/'}}], 'Weight': 300, 'Abilities': ['static', 'vital-spirit']}, 'haunter': {'Name': 'haunter', 'Type': [{'slot': 1, 'type': {'name': 'ghost', 'url': 'https://pokeapi.co/api/v2/type/8/'}}, {'slot': 2, 'type': {'name': 'poison', 'url': 'https://pokeapi.co/api/v2/type/4/'}}], 'Weight': 1, 'Abilities': ['levitate']}, 'tyranitar': {'Name': 'tyranitar', 'Type': [{'slot': 1, 'type': {'name': 'rock', 'url': 'https://pokeapi.co/api/v2/type/6/'}}, {'slot': 2, 'type': {'name': 'dark', 'url': 'https://pokeapi.co/api/v2/type/17/'}}], 'Weight': 2020, 'Abilities': ['sand-stream', 'unnerve']}, 'blaziken': {'Name': 'blaziken', 'Type': [{'slot': 1, 'type': {'name': 'fire', 'url': 'https://pokeapi.co/api/v2/type/10/'}}, {'slot': 2, 'type': {'name': 'fighting', 'url': 'https://pokeapi.co/api/v2/type/2/'}}], 'Weight': 520, 'Abilities': ['blaze', 'speed-boost']}, 'marowak': {'Name': 'marowak', 'Type': [{'slot': 1, 'type': {'name': 'ground', 'url': 'https://pokeapi.co/api/v2/type/5/'}}], 'Weight': 450, 'Abilities': ['rock-head', 'lightning-rod', 'battle-armor']}, 'dragonair': {'Name': 'dragonair', 'Type': [{'slot': 1, 'type': {'name': 'dragon', 'url': 'https://pokeapi.co/api/v2/type/16/'}}], 'Weight': 165, 'Abilities': ['shed-skin', 'marvel-scale']}}\n"
     ]
    }
   ],
   "source": [
    "your_team_dict = {pokemon: poke_api_call(pokemon) for pokemon in your_team}\n",
    "\n",
    "print(your_team_dict)"
   ]
  },
  {
   "cell_type": "markdown",
   "metadata": {},
   "source": [
    "#### Use your function to create a dictionary of your Johto League 6  (favorite 6 pokemon)"
   ]
  },
  {
   "cell_type": "code",
   "execution_count": 97,
   "metadata": {},
   "outputs": [
    {
     "name": "stdout",
     "output_type": "stream",
     "text": [
      "Successfully chose your pokemon\n",
      "Successfully chose your pokemon\n",
      "Successfully chose your pokemon\n",
      "Successfully chose your pokemon\n",
      "Successfully chose your pokemon\n",
      "Successfully chose your pokemon\n",
      "lickitung   {'Name': 'lickitung', 'Type': [{'slot': 1, 'type': {'name': 'normal', 'url': 'https://pokeapi.co/api/v2/type/1/'}}], 'Weight': 655, 'Abilities': ['own-tempo', 'oblivious', 'cloud-nine']}\n",
      "honedge   {'Name': 'honedge', 'Type': [{'slot': 1, 'type': {'name': 'steel', 'url': 'https://pokeapi.co/api/v2/type/9/'}}, {'slot': 2, 'type': {'name': 'ghost', 'url': 'https://pokeapi.co/api/v2/type/8/'}}], 'Weight': 20, 'Abilities': ['no-guard']}\n",
      "forretress   {'Name': 'forretress', 'Type': [{'slot': 1, 'type': {'name': 'bug', 'url': 'https://pokeapi.co/api/v2/type/7/'}}, {'slot': 2, 'type': {'name': 'steel', 'url': 'https://pokeapi.co/api/v2/type/9/'}}], 'Weight': 1258, 'Abilities': ['sturdy', 'overcoat']}\n",
      "houndoom   {'Name': 'houndoom', 'Type': [{'slot': 1, 'type': {'name': 'dark', 'url': 'https://pokeapi.co/api/v2/type/17/'}}, {'slot': 2, 'type': {'name': 'fire', 'url': 'https://pokeapi.co/api/v2/type/10/'}}], 'Weight': 350, 'Abilities': ['early-bird', 'flash-fire', 'unnerve']}\n",
      "snom   {'Name': 'snom', 'Type': [{'slot': 1, 'type': {'name': 'ice', 'url': 'https://pokeapi.co/api/v2/type/15/'}}, {'slot': 2, 'type': {'name': 'bug', 'url': 'https://pokeapi.co/api/v2/type/7/'}}], 'Weight': 38, 'Abilities': ['shield-dust', 'ice-scales']}\n",
      "loudred   {'Name': 'loudred', 'Type': [{'slot': 1, 'type': {'name': 'normal', 'url': 'https://pokeapi.co/api/v2/type/1/'}}], 'Weight': 405, 'Abilities': ['soundproof', 'scrappy']}\n"
     ]
    }
   ],
   "source": [
    "# Place all 6 of your pokemon on the object below, each pokemon should have at least as much info as Pikachu did.\n",
    "my_six_pokemon = {}\n",
    "\n",
    "for i in random_team:\n",
    "    poke_dict = poke_api_call(i)\n",
    "    my_six_pokemon[poke_dict['Name']] = poke_dict\n",
    "\n",
    "for k in my_six_pokemon:\n",
    "    print(k, ' ', my_six_pokemon[k])"
   ]
  },
  {
   "cell_type": "markdown",
   "metadata": {},
   "source": [
    "## Lets create a class called 'Pokemon' and create our pokemon as instances"
   ]
  },
  {
   "cell_type": "code",
   "execution_count": 120,
   "metadata": {},
   "outputs": [],
   "source": [
    "pokemon_dict = {\n",
    "    'name' : my_pokemon['forms'][0]['name'],\n",
    "    'types' : my_pokemon['types'],\n",
    "    'weight' : my_pokemon['weight'],\n",
    "    'abilities' : [ability_dict['ability']['name'] for ability_dict in abilities]\n",
    "}"
   ]
  },
  {
   "cell_type": "code",
   "execution_count": 140,
   "metadata": {},
   "outputs": [],
   "source": [
    "class Pokemon():\n",
    "    \n",
    "    def __init__(self, name, nickname):\n",
    "        self.name = name\n",
    "        self.nickname = nickname\n",
    "        self.abilities = []\n",
    "        self.types = []\n",
    "        self.weight = None\n",
    "        self.image = None\n",
    "        self.call_poke_api()\n",
    "        \n",
    "    def call_poke_api(self):\n",
    "        response = requests.get(f'https://pokeapi.co/api/v2/pokemon/{self.name}')\n",
    "        if response.status_code == 200:\n",
    "            print('Success')\n",
    "            my_pokemon = response.json()\n",
    "            self.name = my_pokemon['name']\n",
    "            self.abilities = [ability_dict['ability']['name'] for ability_dict in my_pokemon['abilities']]               \n",
    "            self.types =  my_pokemon['types']\n",
    "            self.weight = my_pokemon['weight']\n",
    "            self.image = my_pokemon['sprites']['versions']['generation-v']['black-white']['animated']['front_default']\n",
    "            if not self.image:\n",
    "                self.image = my_pokemon['sprites']['front_default']\n",
    "        else:\n",
    "            print(f'Error status code {respnse.status_code}')\n",
    "        "
   ]
  },
  {
   "cell_type": "code",
   "execution_count": 136,
   "metadata": {},
   "outputs": [
    {
     "name": "stdout",
     "output_type": "stream",
     "text": [
      "Success\n",
      "Success\n",
      "60\n",
      "['static', 'lightning-rod']\n",
      "pikachu\n"
     ]
    }
   ],
   "source": [
    "new_poke = Pokemon('pikachu', 'zappy rodent')\n",
    "new_poke.call_poke_api()\n",
    "print(new_poke.weight)\n",
    "print(new_poke.abilities)\n",
    "print(new_poke.name)\n"
   ]
  },
  {
   "cell_type": "code",
   "execution_count": 144,
   "metadata": {},
   "outputs": [
    {
     "name": "stdout",
     "output_type": "stream",
     "text": [
      "Success\n",
      "corsola\n",
      "https://raw.githubusercontent.com/PokeAPI/sprites/master/sprites/pokemon/versions/generation-v/black-white/animated/222.gif\n"
     ]
    }
   ],
   "source": [
    "another_poke = Pokemon('222', 'vine turtle')\n",
    "print(another_poke.name)\n",
    "print(another_poke.image)"
   ]
  },
  {
   "cell_type": "code",
   "execution_count": 145,
   "metadata": {},
   "outputs": [
    {
     "data": {
      "image/gif": "[encoded data removed]",
      "text/plain": [
       "<IPython.core.display.Image object>"
      ]
     },
     "metadata": {},
     "output_type": "display_data"
    }
   ],
   "source": [
    "from IPython.display import Image\n",
    "\n",
    "display(Image(another_poke.image))"
   ]
  },
  {
   "cell_type": "markdown",
   "metadata": {},
   "source": [
    "### Let's Catch some Pokemon"
   ]
  },
  {
   "cell_type": "code",
   "execution_count": 147,
   "metadata": {},
   "outputs": [],
   "source": [
    "dylans_pokemon = ['snorlax','celebi','zapdos','hitmonlee']"
   ]
  },
  {
   "cell_type": "code",
   "execution_count": 149,
   "metadata": {},
   "outputs": [
    {
     "name": "stdout",
     "output_type": "stream",
     "text": [
      "Success\n",
      "Success\n",
      "Success\n",
      "Success\n",
      "{'snorlax': <__main__.Pokemon object at 0x7fc855f4ee20>, 'celebi': <__main__.Pokemon object at 0x7fc85534c790>, 'zapdos': <__main__.Pokemon object at 0x7fc85537df70>, 'hitmonlee': <__main__.Pokemon object at 0x7fc85536f250>}\n"
     ]
    }
   ],
   "source": [
    "pokedex = {}\n",
    "for pokemon in dylans_pokemon:\n",
    "    pokedex[pokemon] = Pokemon(pokemon, 'generic name')\n",
    "print(pokedex)"
   ]
  },
  {
   "cell_type": "code",
   "execution_count": 153,
   "metadata": {},
   "outputs": [
    {
     "name": "stdout",
     "output_type": "stream",
     "text": [
      "Success\n",
      "Success\n",
      "Success\n",
      "Success\n"
     ]
    }
   ],
   "source": [
    "pokedex = {pokemon:Pokemon(pokemon, 'nickname') for pokemon in dylans_pokemon}\n"
   ]
  },
  {
   "cell_type": "code",
   "execution_count": 162,
   "metadata": {},
   "outputs": [
    {
     "name": "stdout",
     "output_type": "stream",
     "text": [
      "Success\n"
     ]
    },
    {
     "data": {
      "text/plain": [
       "'ben'"
      ]
     },
     "execution_count": 162,
     "metadata": {},
     "output_type": "execute_result"
    }
   ],
   "source": [
    "class Pokedex():\n",
    "    def __init__(self, username):\n",
    "        self.username = username\n",
    "        self.pokemon = {}\n",
    "        \n",
    "    def add_pokemon(self, pokemon):\n",
    "        self.pokemon[pokemon] = Pokemon(pokemon, 'monster')\n",
    "        \n",
    "new_pokedex = Pokedex('ben')\n",
    "\n",
    "new_pokedex.add_pokemon('squirtle')\n",
    "\n",
    "new_pokedex.username"
   ]
  },
  {
   "cell_type": "code",
   "execution_count": 163,
   "metadata": {},
   "outputs": [
    {
     "name": "stdout",
     "output_type": "stream",
     "text": [
      "ben's pokemon:\n",
      "squirtle\n"
     ]
    }
   ],
   "source": [
    "def print_user_pokemon(pokedex):\n",
    "    print(f'{pokedex.username}\\'s pokemon:')\n",
    "    poke_dict = pokedex.pokemon\n",
    "    for poke in poke_dict:\n",
    "        print(poke_dict[poke].name)\n",
    "        \n",
    "print_user_pokemon(new_pokedex)"
   ]
  },
  {
   "cell_type": "markdown",
   "metadata": {},
   "source": [
    "## Exercise 1:"
   ]
  },
  {
   "cell_type": "markdown",
   "metadata": {},
   "source": [
    "### Create a Method that prints an image of your pokemon\n",
    "\n",
    "<p>HINT: You may need another attribute as well to store your image url within. </p>"
   ]
  },
  {
   "cell_type": "code",
   "execution_count": 5,
   "metadata": {},
   "outputs": [],
   "source": [
    "# Display an image in Jupyter notebook\n",
    "from IPython.display import Image\n",
    "import requests\n",
    "\n",
    "# display(Image( 'https://i.redd.it/45n4mhusa8l41.jpg', width = 300))\n",
    "class Pokemon():\n",
    "    \n",
    "    def __init__(self, name, nickname):\n",
    "        self.name = name\n",
    "        self.nickname = nickname\n",
    "        self.abilities = []\n",
    "        self.types = []\n",
    "        self.weight = None\n",
    "        self.image = None\n",
    "        self.call_poke_api()\n",
    "        \n",
    "    def call_poke_api(self):\n",
    "        response = requests.get(f'https://pokeapi.co/api/v2/pokemon/{self.name}')\n",
    "        if response.status_code == 200:\n",
    "            print('Success')\n",
    "            my_pokemon = response.json()\n",
    "            self.name = my_pokemon['name']\n",
    "            self.abilities = [ability_dict['ability']['name'] for ability_dict in my_pokemon['abilities']]               \n",
    "            self.types =  my_pokemon['types']\n",
    "            self.weight = my_pokemon['weight']\n",
    "            self.image = my_pokemon['sprites']['front_default']\n",
    "            \n",
    "    def poke_portrait(self):\n",
    "        display(Image(self.image, width = 300))  "
   ]
  },
  {
   "cell_type": "code",
   "execution_count": 6,
   "metadata": {},
   "outputs": [
    {
     "name": "stdout",
     "output_type": "stream",
     "text": [
      "Success\n",
      "[{'slot': 1, 'type': {'name': 'fire', 'url': 'https://pokeapi.co/api/v2/type/10/'}}, {'slot': 2, 'type': {'name': 'flying', 'url': 'https://pokeapi.co/api/v2/type/3/'}}]\n"
     ]
    },
    {
     "data": {
      "image/png": "[encoded data removed]",
      "text/plain": [
       "<IPython.core.display.Image object>"
      ]
     },
     "metadata": {
      "image/png": {
       "width": 300
      }
     },
     "output_type": "display_data"
    }
   ],
   "source": [
    "bens_pokemon = Pokemon('charizard', 'Big Dragon')\n",
    "# bens_pokemon.call_poke_api()\n",
    "print(bens_pokemon.types)\n",
    "bens_pokemon.poke_portrait()"
   ]
  },
  {
   "cell_type": "markdown",
   "metadata": {},
   "source": [
    "## Exercise 2:"
   ]
  },
  {
   "cell_type": "markdown",
   "metadata": {},
   "source": [
    "### Create a Method that evolves your Pokemon\n",
    "If your pokemon can't evolve any further print a message that says \"\\<name of pokemon> can't evolve.\""
   ]
  },
  {
   "cell_type": "code",
   "execution_count": 321,
   "metadata": {},
   "outputs": [],
   "source": [
    "# pokemon -> species(key)  -> url(key) -> evolution chain\n",
    "\n",
    "# Display an image in Jupyter notebook\n",
    "from IPython.display import Image\n",
    "import requests\n",
    "\n",
    "# display(Image( 'https://i.redd.it/45n4mhusa8l41.jpg', width = 300))\n",
    "class Pokemon():\n",
    "    \n",
    "    def __init__(self, name, nickname):\n",
    "        self.name = name\n",
    "        self.nickname = nickname\n",
    "        self.abilities = []\n",
    "        self.types = []\n",
    "        self.weight = None\n",
    "        self.image = None\n",
    "        self.call_poke_api()\n",
    "        \n",
    "    def call_poke_api(self):\n",
    "        response = requests.get(f'https://pokeapi.co/api/v2/pokemon/{self.name}')\n",
    "        if response.status_code == 200:\n",
    "            print('Success')\n",
    "            my_pokemon = response.json()\n",
    "            self.name = my_pokemon['name']\n",
    "            self.abilities = [ability_dict['ability']['name'] for ability_dict in my_pokemon['abilities']]               \n",
    "            self.types =  my_pokemon['types']\n",
    "            self.weight = my_pokemon['weight']\n",
    "            self.image = my_pokemon['sprites']['front_default']\n",
    "            \n",
    "    def poke_portrait(self):\n",
    "        display(Image(self.image, width = 300))\n",
    "        \n",
    "    def poke_evolve (self):\n",
    "        resonse = requests.get(f'https://pokeapi.co/api/v2/pokemon/{self.name}')\n",
    "        my_pokemon = response.json()\n",
    "        if response.status_code == 200:\n",
    "            print(f'Okay, let\\'s evolve {self.name}')\n",
    "            self.evolve = my_pokemon['species']['url']['evolution']['url']\n",
    "            \n",
    "        "
   ]
  },
  {
   "cell_type": "markdown",
   "metadata": {},
   "source": [
    "Now let's evolve a few"
   ]
  },
  {
   "cell_type": "code",
   "execution_count": null,
   "metadata": {
    "scrolled": true
   },
   "outputs": [],
   "source": []
  },
  {
   "cell_type": "code",
   "execution_count": null,
   "metadata": {},
   "outputs": [],
   "source": []
  },
  {
   "cell_type": "code",
   "execution_count": null,
   "metadata": {},
   "outputs": [],
   "source": []
  },
  {
   "cell_type": "markdown",
   "metadata": {},
   "source": [
    "#  Final Exercise: <br> <br>Create a Move_Tutor Class that will allow the Pokemon Class to inherit a move list.\n",
    "<br>\n",
    "<p>for an added bonus you can make sure that if a pokemon has 4 moves the user can choose one of them to replace with a new move. </p>"
   ]
  },
  {
   "cell_type": "code",
   "execution_count": 20,
   "metadata": {},
   "outputs": [],
   "source": [
    "from IPython.display import Image\n",
    "import requests\n",
    "\n",
    "class Move_Tutor():\n",
    "    def __init__(self, move_list = []):\n",
    "        self.move_list = move_list\n",
    "        \n",
    "    def learn_new_move(self):\n",
    "        print(f'Moves that {self.name} knows:')\n",
    "        print(self.move_list)\n",
    "        new_move = input('Enter a move to learn: ')\n",
    "        if new_move in self.move_list:\n",
    "            self.already_knows_move(new_move)\n",
    "        elif len(self.move_list) == 4:\n",
    "            self.make_room_move(new_move)\n",
    "        else:\n",
    "            self.move_list.append(new_move)\n",
    "        \n",
    "    def already_knows_move(self, new_move):\n",
    "        print(f'The move {new_move} has already been learned')\n",
    "        print(self.move_list)\n",
    "        user_choice = input('Would you like to try to learn a different move? y or n?').lower()\n",
    "        if user_choice == 'y':\n",
    "            self.learn_new_move()\n",
    "        else:\n",
    "            return('Done learning moves')\n",
    "    \n",
    "    def make_room_move(self, new_move):\n",
    "        print(f'There are already 4 moves in {self.name} move list.')\n",
    "        print(self.move_list)\n",
    "        user_choice = input('Would you like to try to learn a different move? y or n?').lower()\n",
    "        if user_choice == 'n':\n",
    "            return('Done learning moves')\n",
    "        else:\n",
    "            user_choice = input('Which move would you like to forget?')\n",
    "            if user_choice in self.move_list:\n",
    "                self.move_list.remove(user_choice)\n",
    "                self.move_list.append(new_move)\n",
    "                print(f'Your pokemon {self.name} forgot {user_choice} and learned {new_move}!')\n",
    "            else:\n",
    "                print('That move is not in the known list, check for typing errors')\n",
    "                self.make_room_move(new_move)\n",
    "                \n",
    "class Pokemon(Move_Tutor):\n",
    "    \n",
    "    def __init__(self, name, move_list):\n",
    "        super().__init__(move_list)\n",
    "        self.name = name\n",
    "        self.abilities = []\n",
    "        self.types = []\n",
    "        self.weight = None\n",
    "        self.image = None\n",
    "        self.call_poke_api()\n",
    "        \n",
    "    def call_poke_api(self):\n",
    "        response = requests.get(f'https://pokeapi.co/api/v2/pokemon/{self.name}')\n",
    "        if response.status_code == 200:\n",
    "            print('Success')\n",
    "            my_pokemon = response.json()\n",
    "            self.name = my_pokemon['name']\n",
    "            self.abilities = [ability_dict['ability']['name'] for ability_dict in my_pokemon['abilities']]               \n",
    "            self.types =  my_pokemon['types']\n",
    "            self.weight = my_pokemon['weight']\n",
    "            self.image = my_pokemon['sprites']['front_default']\n",
    "            \n",
    "    def poke_portrait(self):\n",
    "        display(Image(self.image, width = 300))    \n",
    "        \n",
    "        \n",
    "        \n",
    "        "
   ]
  },
  {
   "cell_type": "code",
   "execution_count": null,
   "metadata": {},
   "outputs": [
    {
     "name": "stdout",
     "output_type": "stream",
     "text": [
      "Success\n",
      "Moves that machamp knows:\n",
      "['close combat', 'cross chop', 'rock slide', 'agility']\n"
     ]
    }
   ],
   "source": [
    "bens_pokemon = Pokemon('machamp',['close combat', 'cross chop', 'rock slide', 'agility'])\n",
    "bens_pokemon.learn_new_move()\n",
    "bens_pokemon.learn_new_move()"
   ]
  },
  {
   "cell_type": "code",
   "execution_count": null,
   "metadata": {},
   "outputs": [],
   "source": []
  }
 ],
 "metadata": {
  "kernelspec": {
   "display_name": "Python 3 (ipykernel)",
   "language": "python",
   "name": "python3"
  },
  "language_info": {
   "codemirror_mode": {
    "name": "ipython",
    "version": 3
   },
   "file_extension": ".py",
   "mimetype": "text/x-python",
   "name": "python",
   "nbconvert_exporter": "python",
   "pygments_lexer": "ipython3",
   "version": "3.9.13"
  }
 },
 "nbformat": 4,
 "nbformat_minor": 4
}
